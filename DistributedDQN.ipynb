{
 "cells": [
  {
   "cell_type": "code",
   "execution_count": 1,
   "metadata": {},
   "outputs": [],
   "source": [
    "import numpy as np\n",
    "import gym\n",
    "import math\n",
    "import random\n",
    "from collections import namedtuple\n",
    "from itertools import count\n",
    "import matplotlib.pyplot as plt\n",
    "\n",
    "import torch\n",
    "import torch.nn as nn\n",
    "import torch.optim as optim\n",
    "import torch.nn.functional as F\n",
    "import torchvision.transforms as T\n",
    "from torch.autograd import Variable"
   ]
  },
  {
   "cell_type": "code",
   "execution_count": 2,
   "metadata": {},
   "outputs": [],
   "source": [
    "env = gym.make('CartPole-v1')\n",
    "device = torch.device(\"cuda\" if torch.cuda.is_available() else \"cpu\")"
   ]
  },
  {
   "cell_type": "code",
   "execution_count": 3,
   "metadata": {},
   "outputs": [],
   "source": [
    "Transition = namedtuple('Transition', ('state', 'action', 'next_state', 'reward'))\n",
    "\n",
    "class ReplayMemory:\n",
    "    \n",
    "    def __init__(self, capacity):\n",
    "        self.capacity = capacity\n",
    "        self.memory = list()\n",
    "        self.position = 0\n",
    "    \n",
    "    def push(self, *args):\n",
    "        if len(self.memory) < self.capacity:\n",
    "            self.memory.append(None)\n",
    "        self.memory[self.position] = Transition(*args)\n",
    "        \n",
    "        self.position += 1\n",
    "        if self.position == self.capacity:\n",
    "            self.position = 0\n",
    "            \n",
    "    def sample(self, batch_size):\n",
    "        return random.sample(self.memory, batch_size)\n",
    "\n",
    "    def __len__(self):\n",
    "        return len(self.memory)\n",
    "        "
   ]
  },
  {
   "cell_type": "code",
   "execution_count": 4,
   "metadata": {},
   "outputs": [],
   "source": [
    "N_ATOMS = 51\n",
    "V_MIN = -10\n",
    "V_MAX = 10\n",
    "N_STEPS = 1"
   ]
  },
  {
   "cell_type": "code",
   "execution_count": 5,
   "metadata": {},
   "outputs": [],
   "source": [
    "class CategoricalDQN(nn.Module):\n",
    "\n",
    "    def __init__(self, outputs, n_atoms):\n",
    "        super(CategoricalDQN, self).__init__()      \n",
    "        \n",
    "        self.outputs = outputs\n",
    "        self.n_atoms = n_atoms\n",
    "        self.first = nn.Linear(4, 320)\n",
    "        self.output = nn.Linear(320, outputs * self.n_atoms)\n",
    "\n",
    "    def forward(self, x):\n",
    "        x = F.relu(self.first(x))\n",
    "        x = self.output(x)\n",
    "        return F.softmax(x.view(-1, self.outputs, self.n_atoms), dim=2)\n"
   ]
  },
  {
   "cell_type": "code",
   "execution_count": 6,
   "metadata": {},
   "outputs": [],
   "source": [
    "BATCH_SIZE = 128\n",
    "GAMMA = 0.999\n",
    "EPS_START = 0.9\n",
    "EPS_END = 0.05\n",
    "EPS_DECAY = 200\n",
    "MEMORY_SIZE = 10000\n",
    "TARGET_UPDATE = 10"
   ]
  },
  {
   "cell_type": "code",
   "execution_count": 7,
   "metadata": {},
   "outputs": [],
   "source": [
    "n_actions = env.action_space.n\n",
    "steps_done = 0\n",
    "episode_durations = list()\n",
    "\n",
    "net = CategoricalDQN(n_actions, N_ATOMS).to(device)\n",
    "target_net = CategoricalDQN(n_actions, N_ATOMS).to(device)\n",
    "optimizer = optim.SGD(net.parameters(), lr=0.01, momentum=0.9)\n",
    "memory = ReplayMemory(MEMORY_SIZE)"
   ]
  },
  {
   "cell_type": "code",
   "execution_count": 8,
   "metadata": {},
   "outputs": [],
   "source": [
    "def plot_durations():\n",
    "    plt.figure(2)\n",
    "    plt.clf()\n",
    "    durations_t = torch.tensor(episode_durations, dtype=torch.float)\n",
    "    plt.title('Training...')\n",
    "    plt.xlabel('Episode')\n",
    "    plt.ylabel('Duration')\n",
    "    plt.plot(durations_t.numpy())\n",
    "    # Take 100 episode averages and plot them too\n",
    "    if len(durations_t) >= 100:\n",
    "        means = durations_t.unfold(0, 100, 1).mean(1).view(-1)\n",
    "        means = torch.cat((torch.zeros(99), means))\n",
    "        plt.plot(means.numpy())\n",
    "\n",
    "    plt.pause(0.001)  # pause a bit so that plots are updated"
   ]
  },
  {
   "cell_type": "code",
   "execution_count": 9,
   "metadata": {},
   "outputs": [],
   "source": [
    "supports = torch.linspace(V_MIN, V_MAX, N_ATOMS).view(1, 1, N_ATOMS).to(device)\n",
    "delta = (V_MAX - V_MIN) / (N_ATOMS - 1)"
   ]
  },
  {
   "cell_type": "code",
   "execution_count": 10,
   "metadata": {},
   "outputs": [],
   "source": [
    "def select_action(state):\n",
    "    global steps_done\n",
    "    sample = random.random()\n",
    "    eps_threshold = EPS_END + (EPS_START - EPS_END) * math.exp(-1. * steps_done / EPS_DECAY)\n",
    "    steps_done += 1\n",
    "    if sample > eps_threshold:\n",
    "        with torch.no_grad():\n",
    "            a = net(state) * supports\n",
    "            return a.sum(dim=2).max(1)[1].view(1, 1)\n",
    "    else:\n",
    "        return torch.tensor([[random.randrange(n_actions)]], dtype=torch.long, device=device)"
   ]
  },
  {
   "cell_type": "code",
   "execution_count": 11,
   "metadata": {},
   "outputs": [],
   "source": [
    "def get_max_next_state_action(next_states):\n",
    "    next_dist = target_net(next_states) * supports\n",
    "    return next_dist.sum(dim=2).max(1)[1].view(next_states.size(0), 1, 1).expand(-1, -1, N_ATOMS)\n",
    "\n",
    "def optimize_model():\n",
    "    if len(memory) < BATCH_SIZE:\n",
    "        return\n",
    "    transitions = memory.sample(BATCH_SIZE)\n",
    "\n",
    "    batch = Transition(*zip(*transitions))\n",
    "    \n",
    "    batch_state = torch.cat(batch.state)\n",
    "    batch_action = torch.cat(batch.action).unsqueeze(dim=-1).expand(-1, -1, N_ATOMS)\n",
    "    batch_reward = torch.cat(batch.reward)\n",
    "    batch_next_state = torch.cat(batch.next_state)\n",
    "    \n",
    "    \n",
    "    with torch.no_grad():\n",
    "        max_next_action = get_max_next_state_action(batch_next_state)\n",
    "        max_next_dist = target_net(batch_next_state).gather(1, max_next_action)\n",
    "        max_next_dist = max_next_dist.squeeze()\n",
    "\n",
    "        Tz = batch_reward.view(-1, 1) + (GAMMA**N_STEPS) * supports.view(1, -1)\n",
    "        Tz = Tz.clamp(V_MIN, V_MAX)\n",
    "        b = (Tz - V_MIN) / delta\n",
    "        l = b.floor().to(torch.int64)\n",
    "        u = b.ceil().to(torch.int64)\n",
    "        l[(u > 0) * (l == u)] -= 1\n",
    "        u[(l < (N_ATOMS - 1)) * (l == u)] += 1\n",
    "\n",
    "        offset = torch.linspace(0, (BATCH_SIZE - 1) * N_ATOMS, BATCH_SIZE).unsqueeze(dim=1).expand(BATCH_SIZE, N_ATOMS).to(batch_action)\n",
    "        m = batch_state.new_zeros(BATCH_SIZE, N_ATOMS)\n",
    "        m.view(-1).index_add_(0, (l + offset).view(-1), (max_next_dist * (u.float() - b)).view(-1))  # m_l = m_l + p(s_t+n, a*)(u - b)\n",
    "        m.view(-1).index_add_(0, (u + offset).view(-1), (max_next_dist * (b - l.float())).view(-1))  # m_u = m_u + p(s_t+n, a*)(b - l)\n",
    "    \n",
    "    state_action_dist = net(batch_state).gather(1, batch_action).squeeze()\n",
    "\n",
    "    loss = -(m * state_action_dist.log()).sum(-1)\n",
    "    loss = loss.mean()\n",
    "\n",
    "    optimizer.zero_grad()\n",
    "    loss.backward()\n",
    "    optimizer.step()"
   ]
  },
  {
   "cell_type": "code",
   "execution_count": null,
   "metadata": {
    "scrolled": false
   },
   "outputs": [
    {
     "name": "stdout",
     "output_type": "stream",
     "text": [
      "Complete epoch 0 41.1\n",
      "Complete epoch 1 77.58\n"
     ]
    }
   ],
   "source": [
    "num_episodes = [50] * 10 + [0]\n",
    "for epoch in range(len(num_episodes)):\n",
    "    for i_episode in range(num_episodes[epoch]):\n",
    "        state = torch.tensor([env.reset()], dtype=torch.float, device=device)\n",
    "        for t in count():\n",
    "            action = select_action(state)\n",
    "            if epoch == len(num_episodes) - 1:\n",
    "                env.render()\n",
    "            next_state, reward, done, _ = env.step(action.item())\n",
    "            next_state = torch.tensor([next_state], dtype=torch.float, device=device)\n",
    "            if done and t + 1 != 500:\n",
    "                reward = -10\n",
    "            reward = torch.tensor([reward], dtype=torch.float, device=device)\n",
    "\n",
    "            memory.push(state, action, next_state, reward)\n",
    "            state = next_state\n",
    "            optimize_model()\n",
    "\n",
    "            if done:\n",
    "                episode_durations.append(t + 1)\n",
    "                break\n",
    "        if i_episode % TARGET_UPDATE == 0:\n",
    "            target_net.load_state_dict(net.state_dict())\n",
    "    \n",
    "    if torch.cuda.is_available():\n",
    "        torch.cuda.empty_cache()\n",
    "    print('Complete epoch {}'.format(epoch), np.mean(episode_durations[-200:]))\n",
    "    \n",
    "env.close()\n",
    "plot_durations()\n",
    "plt.show()"
   ]
  },
  {
   "cell_type": "code",
   "execution_count": null,
   "metadata": {},
   "outputs": [],
   "source": []
  },
  {
   "cell_type": "code",
   "execution_count": null,
   "metadata": {},
   "outputs": [],
   "source": []
  }
 ],
 "metadata": {
  "kernelspec": {
   "display_name": "Python 3",
   "language": "python",
   "name": "python3"
  },
  "language_info": {
   "codemirror_mode": {
    "name": "ipython",
    "version": 3
   },
   "file_extension": ".py",
   "mimetype": "text/x-python",
   "name": "python",
   "nbconvert_exporter": "python",
   "pygments_lexer": "ipython3",
   "version": "3.7.4"
  }
 },
 "nbformat": 4,
 "nbformat_minor": 2
}
