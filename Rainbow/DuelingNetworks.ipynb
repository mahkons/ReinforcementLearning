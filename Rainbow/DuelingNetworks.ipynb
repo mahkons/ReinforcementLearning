{
 "cells": [
  {
   "cell_type": "code",
   "execution_count": 221,
   "metadata": {},
   "outputs": [],
   "source": [
    "import numpy as np\n",
    "import gym\n",
    "import math\n",
    "import random\n",
    "from collections import namedtuple\n",
    "from itertools import count\n",
    "import matplotlib.pyplot as plt\n",
    "\n",
    "import torch\n",
    "import torch.nn as nn\n",
    "import torch.optim as optim\n",
    "import torch.nn.functional as F\n",
    "import torchvision.transforms as T\n",
    "from torch.autograd import Variable"
   ]
  },
  {
   "cell_type": "code",
   "execution_count": 222,
   "metadata": {},
   "outputs": [],
   "source": [
    "env = gym.make('CartPole-v1')\n",
    "device = torch.device(\"cuda\" if torch.cuda.is_available() else \"cpu\")\n",
    "STATES = env.observation_space.shape[0]"
   ]
  },
  {
   "cell_type": "code",
   "execution_count": 223,
   "metadata": {},
   "outputs": [],
   "source": [
    "Transition = namedtuple('Transition', ('state', 'action', 'next_state', 'reward'))\n",
    "\n",
    "class ReplayMemory:\n",
    "    \n",
    "    def __init__(self, capacity):\n",
    "        self.capacity = capacity\n",
    "        self.memory = list()\n",
    "        self.position = 0\n",
    "    \n",
    "    def push(self, *args):\n",
    "        if len(self.memory) < self.capacity:\n",
    "            self.memory.append(None)\n",
    "        self.memory[self.position] = Transition(*args)\n",
    "        \n",
    "        self.position += 1\n",
    "        if self.position == self.capacity:\n",
    "            self.position = 0\n",
    "            \n",
    "    def sample(self, batch_size):\n",
    "        return random.sample(self.memory, batch_size)\n",
    "\n",
    "    def __len__(self):\n",
    "        return len(self.memory)\n",
    "        "
   ]
  },
  {
   "cell_type": "code",
   "execution_count": 224,
   "metadata": {},
   "outputs": [],
   "source": [
    "class DQN(nn.Module):\n",
    "\n",
    "    def __init__(self, outputs):\n",
    "        super(DQN, self).__init__()\n",
    "        \n",
    "        self.val_1 = nn.Linear(STATES, 320)\n",
    "        self.val_2 = nn.Linear(320, 1)\n",
    "        \n",
    "        self.adv_1 = nn.Linear(STATES, 320)\n",
    "        self.adv_2 = nn.Linear(320, outputs)\n",
    "\n",
    "    def forward(self, x):\n",
    "        val = F.relu(self.val_1(x))\n",
    "        adv = F.relu(self.adv_1(x))\n",
    "        \n",
    "        val = self.val_2(val)\n",
    "        adv = self.adv_2(adv)\n",
    "        \n",
    "        batch_size = adv.size(0)\n",
    "        outputs = adv.size(1)\n",
    "\n",
    "        adv = adv - adv.mean(1).unsqueeze(1).expand(batch_size, outputs)\n",
    "        val = val.expand(batch_size, outputs)\n",
    "        x = val + adv\n",
    "        return x"
   ]
  },
  {
   "cell_type": "code",
   "execution_count": 225,
   "metadata": {},
   "outputs": [],
   "source": [
    "BATCH_SIZE = 128\n",
    "GAMMA = 0.999\n",
    "EPS_START = 0.9\n",
    "EPS_END = 0.05\n",
    "EPS_DECAY = 200\n",
    "MEMORY_SIZE = 10000\n",
    "TARGET_UPDATE = 500"
   ]
  },
  {
   "cell_type": "code",
   "execution_count": 226,
   "metadata": {},
   "outputs": [],
   "source": [
    "n_actions = env.action_space.n\n",
    "steps_done = 0\n",
    "episode_durations = list()\n",
    "\n",
    "net = DQN(n_actions).to(device)\n",
    "target_net = DQN(n_actions).to(device)\n",
    "optimizer = optim.Adam(net.parameters(), lr=1e-3)\n",
    "memory = ReplayMemory(MEMORY_SIZE)"
   ]
  },
  {
   "cell_type": "code",
   "execution_count": 227,
   "metadata": {},
   "outputs": [],
   "source": [
    "def plot_durations():\n",
    "    plt.figure(2)\n",
    "    plt.clf()\n",
    "    durations_t = torch.tensor(episode_durations, dtype=torch.float)\n",
    "    plt.title('Training...')\n",
    "    plt.xlabel('Episode')\n",
    "    plt.ylabel('Duration')\n",
    "    plt.plot(durations_t.numpy())\n",
    "    # Take 100 episode averages and plot them too\n",
    "    if len(durations_t) >= 100:\n",
    "        means = durations_t.unfold(0, 100, 1).mean(1).view(-1)\n",
    "        means = torch.cat((torch.zeros(99), means))\n",
    "        plt.plot(means.numpy())\n",
    "\n",
    "    plt.pause(0.001)  # pause a bit so that plots are updated"
   ]
  },
  {
   "cell_type": "code",
   "execution_count": 228,
   "metadata": {},
   "outputs": [],
   "source": [
    "def select_action(state):\n",
    "    global steps_done\n",
    "    sample = random.random()\n",
    "    eps_threshold = EPS_END + (EPS_START - EPS_END) * math.exp(-1. * steps_done / EPS_DECAY)\n",
    "    steps_done += 1\n",
    "    if sample > eps_threshold:\n",
    "        with torch.no_grad():\n",
    "            return net(state).max(1)[1].view(1, 1)\n",
    "    else:\n",
    "        return torch.tensor([[random.randrange(n_actions)]], dtype=torch.long, device=device)"
   ]
  },
  {
   "cell_type": "code",
   "execution_count": 229,
   "metadata": {},
   "outputs": [],
   "source": [
    "def optimize_model():\n",
    "    if len(memory) < BATCH_SIZE:\n",
    "        return\n",
    "    transitions = memory.sample(BATCH_SIZE)\n",
    "\n",
    "    batch = Transition(*zip(*transitions))\n",
    "    \n",
    "    batch_state = torch.cat(batch.state)\n",
    "    batch_action = torch.cat(batch.action)\n",
    "    batch_reward = torch.cat(batch.reward)\n",
    "    batch_next_state = torch.cat(batch.next_state)\n",
    "\n",
    "    state_action_values = net(batch_state).gather(1, batch_action)\n",
    "    next_values = target_net(batch_next_state).max(1)[0].detach()\n",
    "    expected_state_action_values = (next_values * GAMMA) + batch_reward\n",
    "\n",
    "    loss = F.smooth_l1_loss(state_action_values, expected_state_action_values.unsqueeze(1))\n",
    "\n",
    "    optimizer.zero_grad()\n",
    "    loss.backward()\n",
    "    optimizer.step()"
   ]
  },
  {
   "cell_type": "code",
   "execution_count": 230,
   "metadata": {
    "scrolled": false
   },
   "outputs": [
    {
     "name": "stdout",
     "output_type": "stream",
     "text": [
      "Complete epoch 0 39.06\n",
      "Complete epoch 1 174.96\n",
      "Complete epoch 2 154.52\n",
      "Complete epoch 3 219.66\n",
      "Complete epoch 4 274.54\n",
      "Complete epoch 5 274.54\n"
     ]
    },
    {
     "data": {
      "image/png": "[encoded data removed]",
      "text/plain": [
       "<Figure size 432x288 with 1 Axes>"
      ]
     },
     "metadata": {
      "needs_background": "light"
     },
     "output_type": "display_data"
    }
   ],
   "source": [
    "num_episodes = [50] * 5 + [0] * 1\n",
    "for epoch in range(len(num_episodes)):\n",
    "    for i_episode in range(num_episodes[epoch]):\n",
    "        state = torch.tensor([env.reset()], dtype=torch.float, device=device)\n",
    "        for t in count():\n",
    "            action = select_action(state)\n",
    "            if epoch == len(num_episodes) - 1:\n",
    "                env.render()\n",
    "            next_state, reward, done, _ = env.step(action.item())\n",
    "            \n",
    "            if next_state is None:\n",
    "                next_state = state\n",
    "            else:\n",
    "                next_state = torch.tensor([next_state], dtype=torch.float, device=device)\n",
    "                \n",
    "            if done and t + 1 != 500:\n",
    "                reward = -100\n",
    "                \n",
    "            reward = torch.tensor([reward], dtype=torch.float, device=device)\n",
    "         \n",
    "            memory.push(state, action, next_state, reward)\n",
    "            state = next_state\n",
    "            optimize_model()\n",
    "            \n",
    "            if steps_done % TARGET_UPDATE == 0:\n",
    "                target_net.load_state_dict(net.state_dict())\n",
    "\n",
    "            if done:\n",
    "                episode_durations.append(t + 1)\n",
    "                break\n",
    "\n",
    "    print('Complete epoch {}'.format(epoch), np.mean(episode_durations[-50:]))\n",
    "    if torch.cuda.is_available():\n",
    "        torch.cuda.empty_cache()\n",
    "    \n",
    "env.close()\n",
    "plot_durations()\n",
    "plt.show()"
   ]
  },
  {
   "cell_type": "code",
   "execution_count": null,
   "metadata": {},
   "outputs": [],
   "source": []
  }
 ],
 "metadata": {
  "kernelspec": {
   "display_name": "Python 3",
   "language": "python",
   "name": "python3"
  },
  "language_info": {
   "codemirror_mode": {
    "name": "ipython",
    "version": 3
   },
   "file_extension": ".py",
   "mimetype": "text/x-python",
   "name": "python",
   "nbconvert_exporter": "python",
   "pygments_lexer": "ipython3",
   "version": "3.7.4"
  }
 },
 "nbformat": 4,
 "nbformat_minor": 2
}
