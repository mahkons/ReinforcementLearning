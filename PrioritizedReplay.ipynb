{
 "cells": [
  {
   "cell_type": "code",
   "execution_count": 60,
   "metadata": {},
   "outputs": [],
   "source": [
    "import numpy as np\n",
    "import gym\n",
    "import math\n",
    "import random\n",
    "from collections import namedtuple\n",
    "from itertools import count\n",
    "import matplotlib.pyplot as plt\n",
    "\n",
    "import torch\n",
    "import torch.nn as nn\n",
    "import torch.optim as optim\n",
    "import torch.nn.functional as F\n",
    "import torchvision.transforms as T\n",
    "from torch.autograd import Variable"
   ]
  },
  {
   "cell_type": "code",
   "execution_count": 61,
   "metadata": {},
   "outputs": [],
   "source": [
    "#env = gym.make(\"LunarLander-v2\")\n",
    "env = gym.make(\"CartPole-v1\")\n",
    "device = torch.device(\"cuda\" if torch.cuda.is_available() else \"cpu\")"
   ]
  },
  {
   "cell_type": "code",
   "execution_count": 62,
   "metadata": {},
   "outputs": [],
   "source": [
    "MEMORY_SIZE = 100 * 1000\n",
    "PRIORITY_EPS = 0.005\n",
    "PRIORITY_ALPHA = 0.5\n",
    "\n",
    "IS_BETA_START = 0.4\n",
    "IS_BETA_END = 1\n",
    "IS_BETA_DECAY = 200\n",
    "\n",
    "STATES = env.observation_space.shape[0]"
   ]
  },
  {
   "cell_type": "code",
   "execution_count": 63,
   "metadata": {},
   "outputs": [],
   "source": [
    "class RangeTree:\n",
    "    def __init__(self):\n",
    "        self.size = 1\n",
    "        while self.size < MEMORY_SIZE:\n",
    "            self.size *= 2\n",
    "        self.values = np.zeros(2 * self.size)\n",
    "        self.max_values = np.zeros(2 * self.size)\n",
    "    \n",
    "    def add(self, pos, x):\n",
    "        pos += self.size\n",
    "        self.values[pos] = x\n",
    "        self.max_values[pos] = x;\n",
    "        pos //= 2\n",
    "        while (pos):\n",
    "            self.values[pos] = self.values[2 * pos] + self.values[2 * pos + 1]\n",
    "            self.max_values[pos] = max(self.max_values[2 * pos], self.max_values[2 * pos + 1])\n",
    "            pos //= 2\n",
    "            \n",
    "    def get_max(self):\n",
    "        return self.max_values[1]\n",
    "            \n",
    "    def get(self, x):\n",
    "        x *= self.values[1]\n",
    "        pos = 1\n",
    "        while pos < self.size:\n",
    "            if x > self.values[2 * pos]:\n",
    "                x -= self.values[2 * pos]\n",
    "                pos = pos * 2 + 1\n",
    "            else:\n",
    "                pos = pos * 2\n",
    "        return pos - self.size"
   ]
  },
  {
   "cell_type": "code",
   "execution_count": 64,
   "metadata": {},
   "outputs": [],
   "source": [
    "Transition = namedtuple('Transition', ('state', 'action', 'next_state', 'reward'))\n",
    "\n",
    "class ReplayMemory:\n",
    "    \n",
    "    def __init__(self, capacity):\n",
    "        self.capacity = capacity\n",
    "        self.memory = list()\n",
    "        self.position = 0\n",
    "        self.tree = RangeTree()\n",
    "        self.priorities = np.empty((MEMORY_SIZE, ))\n",
    "        self.size = 0\n",
    "    \n",
    "    def push(self, *args):\n",
    "        if len(self.memory) < self.capacity:\n",
    "            self.memory.append(None)\n",
    "            \n",
    "        self.memory[self.position] = Transition(*args)\n",
    "        self.priorities[self.position] = max(self.tree.get_max(), PRIORITY_EPS)\n",
    "        self.tree.add(self.position, self.priorities[self.position] ** PRIORITY_ALPHA)\n",
    "        \n",
    "        self.position += 1\n",
    "        if self.position == self.capacity:\n",
    "            self.position = 0\n",
    "            \n",
    "    def get_priorities(self, positions):\n",
    "        return [self.priorities[pos] for pos in positions]\n",
    "    \n",
    "    def get_transitions(self, positions):\n",
    "        return [self.memory[pos] for pos in positions]\n",
    "            \n",
    "    def update(self, positions, td_errors):\n",
    "        for (pos, error) in zip(positions, td_errors):\n",
    "            self.priorities[pos] = abs(error) + PRIORITY_EPS\n",
    "            self.tree.add(pos,  self.priorities[pos] ** PRIORITY_ALPHA)\n",
    "            \n",
    "    def sample(self, batch_size):\n",
    "        return [self.tree.get(np.random.uniform(k / batch_size, (k + 1) / batch_size)) for k in range(batch_size)]\n",
    "\n",
    "    def __len__(self):\n",
    "        return len(self.memory)\n",
    "        "
   ]
  },
  {
   "cell_type": "code",
   "execution_count": 65,
   "metadata": {},
   "outputs": [],
   "source": [
    "class DQN(nn.Module):\n",
    "\n",
    "    def __init__(self, outputs):\n",
    "        super(DQN, self).__init__()              \n",
    "        self.first = nn.Linear(STATES, 320)\n",
    "        self.output = nn.Linear(320, outputs)\n",
    "\n",
    "    def forward(self, x):\n",
    "        x = F.relu(self.first(x))\n",
    "        x = self.output(x)\n",
    "        return x"
   ]
  },
  {
   "cell_type": "code",
   "execution_count": 66,
   "metadata": {},
   "outputs": [],
   "source": [
    "BATCH_SIZE = 128\n",
    "GAMMA = 0.999\n",
    "EPS_START = 0.9\n",
    "EPS_END = 0.05\n",
    "EPS_DECAY = 200\n",
    "TARGET_UPDATE = 500"
   ]
  },
  {
   "cell_type": "code",
   "execution_count": 67,
   "metadata": {},
   "outputs": [],
   "source": [
    "n_actions = env.action_space.n\n",
    "steps_done = 0\n",
    "episode_durations = list()\n",
    "\n",
    "net = DQN(n_actions)\n",
    "target_net = DQN(n_actions)\n",
    "optimizer = optim.Adam(net.parameters(), lr=1e-2)\n",
    "memory = ReplayMemory(MEMORY_SIZE)"
   ]
  },
  {
   "cell_type": "code",
   "execution_count": 68,
   "metadata": {},
   "outputs": [],
   "source": [
    "def plot_durations():\n",
    "    plt.figure(2)\n",
    "    plt.clf()\n",
    "    durations_t = torch.tensor(episode_durations, dtype=torch.float)\n",
    "    plt.title('Training...')\n",
    "    plt.xlabel('Episode')\n",
    "    plt.ylabel('Duration')\n",
    "    plt.plot(durations_t.numpy())\n",
    "    # Take 100 episode averages and plot them too\n",
    "    if len(durations_t) >= 100:\n",
    "        means = durations_t.unfold(0, 100, 1).mean(1).view(-1)\n",
    "        means = torch.cat((torch.zeros(99), means))\n",
    "        plt.plot(means.numpy())\n",
    "\n",
    "    plt.pause(0.001)  # pause a bit so that plots are updated"
   ]
  },
  {
   "cell_type": "code",
   "execution_count": 69,
   "metadata": {},
   "outputs": [],
   "source": [
    "def select_action(state):\n",
    "    global steps_done\n",
    "    sample = random.random()\n",
    "    eps_threshold = EPS_END + (EPS_START - EPS_END) * math.exp(-1. * steps_done / EPS_DECAY)\n",
    "    steps_done += 1\n",
    "    if sample > eps_threshold:\n",
    "        with torch.no_grad():\n",
    "            return net(state).max(1)[1].view(1, 1)\n",
    "    else:\n",
    "        return torch.tensor([[random.randrange(n_actions)]], dtype=torch.long)"
   ]
  },
  {
   "cell_type": "code",
   "execution_count": 70,
   "metadata": {},
   "outputs": [],
   "source": [
    "def optimize_model():\n",
    "    if len(memory) < BATCH_SIZE:\n",
    "        return\n",
    "    \n",
    "    transitions_pos = memory.sample(BATCH_SIZE)\n",
    "    transitions = memory.get_transitions(transitions_pos)\n",
    "    \n",
    "    beta = IS_BETA_END - (IS_BETA_END - IS_BETA_START) ** math.exp(-1. * steps_done / IS_BETA_DECAY)\n",
    "    weights = (torch.FloatTensor(memory.get_priorities(transitions_pos)) * BATCH_SIZE) ** (-beta)\n",
    "    weights = weights / torch.max(weights)\n",
    "\n",
    "    batch = Transition(*zip(*transitions))\n",
    "    \n",
    "    batch_state = Variable(torch.cat(batch.state))\n",
    "    batch_action = Variable(torch.cat(batch.action))\n",
    "    batch_reward = Variable(torch.cat(batch.reward))\n",
    "    batch_next_state = Variable(torch.cat(batch.next_state))\n",
    "\n",
    "    state_action_values = net(batch_state).gather(1, batch_action)\n",
    "    \n",
    "    next_values = target_net(batch_next_state).max(1)[0].detach()\n",
    "    expected_state_action_values = (next_values * GAMMA) + batch_reward\n",
    "\n",
    "    td_error = expected_state_action_values.unsqueeze(1) - state_action_values\n",
    "    memory.update(transitions_pos, td_error)\n",
    "    \n",
    "    loss = F.smooth_l1_loss(state_action_values * weights, expected_state_action_values.unsqueeze(1) * weights)\n",
    "\n",
    "    optimizer.zero_grad()\n",
    "    loss.backward()\n",
    "    optimizer.step()"
   ]
  },
  {
   "cell_type": "code",
   "execution_count": null,
   "metadata": {
    "scrolled": false
   },
   "outputs": [
    {
     "name": "stdout",
     "output_type": "stream",
     "text": [
      "Complete epoch 0 16.74\n",
      "Complete epoch 1 26.02\n",
      "Complete epoch 2 178.44\n",
      "Complete epoch 3 321.42\n"
     ]
    }
   ],
   "source": [
    "num_episodes = [50] * 5 + [0] * 1\n",
    "for epoch in range(len(num_episodes)):\n",
    "    for i_episode in range(num_episodes[epoch]):\n",
    "        state = torch.tensor([env.reset()], dtype=torch.float, device=device)\n",
    "        for t in count():\n",
    "            action = select_action(state)\n",
    "            if epoch == len(num_episodes) - 1:\n",
    "                env.render()\n",
    "            next_state, reward, done, _ = env.step(action.item())\n",
    "            \n",
    "            if next_state is None:\n",
    "                next_state = state\n",
    "            else:\n",
    "                next_state = torch.tensor([next_state], dtype=torch.float, device=device)\n",
    "            if done and t + 1 != 500:\n",
    "                reward = -100\n",
    "            reward = torch.tensor([reward], dtype=torch.float, device=device)\n",
    "\n",
    "            memory.push(state, action, next_state, reward)\n",
    "            state = next_state\n",
    "            optimize_model()\n",
    "            \n",
    "            if steps_done % TARGET_UPDATE == 0:\n",
    "                target_net.load_state_dict(net.state_dict())\n",
    "\n",
    "            if done:\n",
    "                episode_durations.append(t + 1)\n",
    "                break\n",
    "\n",
    "    print('Complete epoch {}'.format(epoch), np.mean(episode_durations[-50:]))\n",
    "    \n",
    "env.close()\n",
    "plot_durations()\n",
    "plt.show()"
   ]
  },
  {
   "cell_type": "code",
   "execution_count": null,
   "metadata": {},
   "outputs": [],
   "source": []
  },
  {
   "cell_type": "code",
   "execution_count": null,
   "metadata": {},
   "outputs": [],
   "source": []
  }
 ],
 "metadata": {
  "kernelspec": {
   "display_name": "Python 3",
   "language": "python",
   "name": "python3"
  },
  "language_info": {
   "codemirror_mode": {
    "name": "ipython",
    "version": 3
   },
   "file_extension": ".py",
   "mimetype": "text/x-python",
   "name": "python",
   "nbconvert_exporter": "python",
   "pygments_lexer": "ipython3",
   "version": "3.7.4"
  }
 },
 "nbformat": 4,
 "nbformat_minor": 2
}
